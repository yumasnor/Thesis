{
 "cells": [
  {
   "cell_type": "code",
   "execution_count": null,
   "metadata": {
    "collapsed": true
   },
   "outputs": [],
   "source": []
  },
  {
   "cell_type": "code",
   "execution_count": 1,
   "metadata": {},
   "outputs": [],
   "source": [
    "import plotly.plotly as py\n",
    "import plotly.graph_objs as go\n",
    "import glob\n",
    "import pandas as pd\n",
    "from datetime import datetime\n",
    "from time import sleep\n",
    "import plotly.tools as tls  \n",
    "import numpy as np\n",
    "\n",
    "CRYPTO_SYMBOL = 'BTC'\n",
    "CRYPTO_FOLDER = f\"data/crypto/{CRYPTO_SYMBOL}\""
   ]
  },
  {
   "cell_type": "markdown",
   "metadata": {},
   "source": [
    "## Load historical data"
   ]
  },
  {
   "cell_type": "markdown",
   "metadata": {},
   "source": [
    "### Load crypto currency"
   ]
  },
  {
   "cell_type": "code",
   "execution_count": 90,
   "metadata": {},
   "outputs": [
    {
     "data": {
      "text/plain": [
       "(20317, 5)"
      ]
     },
     "execution_count": 90,
     "metadata": {},
     "output_type": "execute_result"
    }
   ],
   "source": [
    "crypto_files = glob.glob(f\"{CRYPTO_FOLDER}/*.csv\")\n",
    "dfs = []\n",
    "for file in crypto_files:\n",
    "    dfs.append(pd.read_csv(file))\n",
    "df_crypto = pd.concat(dfs)\n",
    "df_crypto = df_crypto.sort_values(by=['time'])\n",
    "df_crypto['time'] = df_crypto['time'].apply(lambda x: datetime.fromtimestamp(x).strftime('%Y-%m-%d %H:%M:%S'))\n",
    "\n",
    "df_crypto.shape"
   ]
  },
  {
   "cell_type": "markdown",
   "metadata": {},
   "source": [
    "### Load tweets"
   ]
  },
  {
   "cell_type": "code",
   "execution_count": 91,
   "metadata": {},
   "outputs": [
    {
     "data": {
      "text/plain": [
       "(428973, 7)"
      ]
     },
     "execution_count": 91,
     "metadata": {},
     "output_type": "execute_result"
    }
   ],
   "source": [
    "TWEETS_FOLDER = \"\"\n",
    "tweet_file = \"tweets_clean.csv\"\n",
    "df_tweets = pd.read_csv(tweet_file)\n",
    "df_tweets.shape"
   ]
  },
  {
   "cell_type": "markdown",
   "metadata": {},
   "source": [
    "## Real time data visualisation\n",
    "\n",
    "### Prepare streams"
   ]
  },
  {
   "cell_type": "code",
   "execution_count": 92,
   "metadata": {
    "scrolled": false
   },
   "outputs": [
    {
     "data": {
      "text/html": [
       "<iframe id=\"igraph\" scrolling=\"no\" style=\"border:none;\" seamless=\"seamless\" src=\"https://plot.ly/~SebastienRichoz/60.embed\" height=\"525px\" width=\"100%\"></iframe>"
      ],
      "text/plain": [
       "<plotly.tools.PlotlyDisplay object>"
      ]
     },
     "execution_count": 92,
     "metadata": {},
     "output_type": "execute_result"
    }
   ],
   "source": [
    "# (*) Import module keep track and format current time\n",
    "\n",
    "# Get stream id from stream id list\n",
    "stream_id_crypto, stream_id_tweets = tls.get_credentials_file()['stream_ids'][:2]\n",
    "\n",
    "# Make instance of stream id object \n",
    "stream_crypto = go.Stream(\n",
    "    token=stream_id_crypto,  # link stream id to 'token' key\n",
    "    maxpoints=1000      # keep a max of 80 pts on screen\n",
    ")\n",
    "\n",
    "stream_tweets = go.Stream(\n",
    "    token=stream_id_tweets,  # link stream id to 'token' key\n",
    "    maxpoints=1000      # keep a max of 80 pts on screen\n",
    ")\n",
    "\n",
    "df_crypto_small = df_crypto.tail(1000).head(500)\n",
    "\n",
    "# Initialize trace of streaming plot by embedding the unique stream_id\n",
    "trace_crypto = go.Ohlc(x=df_crypto_small.time,\n",
    "                              open=df_crypto_small.open,\n",
    "                              high=df_crypto_small.high,\n",
    "                              low=df_crypto_small.low,\n",
    "                              close=df_crypto_small.close,\n",
    "                              stream=stream_crypto)\n",
    "data = [trace_crypto]\n",
    "\n",
    "# Add title to layout object\n",
    "layout = {\n",
    "    'title': f\"{CRYPTO_SYMBOL} currency\",\n",
    "    'yaxis': {'title': 'Price USD'},\n",
    "}\n",
    "\n",
    "# Make a figure object\n",
    "fig = go.Figure(data=data, layout=layout)\n",
    "\n",
    "py.iplot(fig, filename=f\"real_time_{CRYPTO_SYMBOL}_tweets\")"
   ]
  },
  {
   "cell_type": "code",
   "execution_count": 93,
   "metadata": {},
   "outputs": [
    {
     "ename": "IndexError",
     "evalue": "single positional indexer is out-of-bounds",
     "output_type": "error",
     "traceback": [
      "\u001b[0;31m---------------------------------------------------------------------------\u001b[0m",
      "\u001b[0;31mIndexError\u001b[0m                                Traceback (most recent call last)",
      "\u001b[0;32m<ipython-input-93-d3e6d87d0df8>\u001b[0m in \u001b[0;36m<module>\u001b[0;34m()\u001b[0m\n\u001b[1;32m     14\u001b[0m \u001b[0;32mwhile\u001b[0m \u001b[0;32mTrue\u001b[0m\u001b[0;34m:\u001b[0m\u001b[0;34m\u001b[0m\u001b[0m\n\u001b[1;32m     15\u001b[0m     \u001b[0;31m# Current values\u001b[0m\u001b[0;34m\u001b[0m\u001b[0;34m\u001b[0m\u001b[0m\n\u001b[0;32m---> 16\u001b[0;31m     \u001b[0mcurrent\u001b[0m \u001b[0;34m=\u001b[0m \u001b[0mdf_crypto\u001b[0m\u001b[0;34m.\u001b[0m\u001b[0miloc\u001b[0m\u001b[0;34m[\u001b[0m\u001b[0mdf_len\u001b[0m\u001b[0;34m-\u001b[0m\u001b[0;36m500\u001b[0m\u001b[0;34m+\u001b[0m\u001b[0mi\u001b[0m\u001b[0;34m]\u001b[0m\u001b[0;34m\u001b[0m\u001b[0m\n\u001b[0m\u001b[1;32m     17\u001b[0m     \u001b[0mi\u001b[0m \u001b[0;34m+=\u001b[0m \u001b[0;36m1\u001b[0m\u001b[0;34m\u001b[0m\u001b[0m\n\u001b[1;32m     18\u001b[0m \u001b[0;34m\u001b[0m\u001b[0m\n",
      "\u001b[0;32m/anaconda3/lib/python3.6/site-packages/pandas/core/indexing.py\u001b[0m in \u001b[0;36m__getitem__\u001b[0;34m(self, key)\u001b[0m\n\u001b[1;32m   1371\u001b[0m \u001b[0;34m\u001b[0m\u001b[0m\n\u001b[1;32m   1372\u001b[0m             \u001b[0mmaybe_callable\u001b[0m \u001b[0;34m=\u001b[0m \u001b[0mcom\u001b[0m\u001b[0;34m.\u001b[0m\u001b[0m_apply_if_callable\u001b[0m\u001b[0;34m(\u001b[0m\u001b[0mkey\u001b[0m\u001b[0;34m,\u001b[0m \u001b[0mself\u001b[0m\u001b[0;34m.\u001b[0m\u001b[0mobj\u001b[0m\u001b[0;34m)\u001b[0m\u001b[0;34m\u001b[0m\u001b[0m\n\u001b[0;32m-> 1373\u001b[0;31m             \u001b[0;32mreturn\u001b[0m \u001b[0mself\u001b[0m\u001b[0;34m.\u001b[0m\u001b[0m_getitem_axis\u001b[0m\u001b[0;34m(\u001b[0m\u001b[0mmaybe_callable\u001b[0m\u001b[0;34m,\u001b[0m \u001b[0maxis\u001b[0m\u001b[0;34m=\u001b[0m\u001b[0maxis\u001b[0m\u001b[0;34m)\u001b[0m\u001b[0;34m\u001b[0m\u001b[0m\n\u001b[0m\u001b[1;32m   1374\u001b[0m \u001b[0;34m\u001b[0m\u001b[0m\n\u001b[1;32m   1375\u001b[0m     \u001b[0;32mdef\u001b[0m \u001b[0m_is_scalar_access\u001b[0m\u001b[0;34m(\u001b[0m\u001b[0mself\u001b[0m\u001b[0;34m,\u001b[0m \u001b[0mkey\u001b[0m\u001b[0;34m)\u001b[0m\u001b[0;34m:\u001b[0m\u001b[0;34m\u001b[0m\u001b[0m\n",
      "\u001b[0;32m/anaconda3/lib/python3.6/site-packages/pandas/core/indexing.py\u001b[0m in \u001b[0;36m_getitem_axis\u001b[0;34m(self, key, axis)\u001b[0m\n\u001b[1;32m   1828\u001b[0m \u001b[0;34m\u001b[0m\u001b[0m\n\u001b[1;32m   1829\u001b[0m             \u001b[0;31m# validate the location\u001b[0m\u001b[0;34m\u001b[0m\u001b[0;34m\u001b[0m\u001b[0m\n\u001b[0;32m-> 1830\u001b[0;31m             \u001b[0mself\u001b[0m\u001b[0;34m.\u001b[0m\u001b[0m_is_valid_integer\u001b[0m\u001b[0;34m(\u001b[0m\u001b[0mkey\u001b[0m\u001b[0;34m,\u001b[0m \u001b[0maxis\u001b[0m\u001b[0;34m)\u001b[0m\u001b[0;34m\u001b[0m\u001b[0m\n\u001b[0m\u001b[1;32m   1831\u001b[0m \u001b[0;34m\u001b[0m\u001b[0m\n\u001b[1;32m   1832\u001b[0m             \u001b[0;32mreturn\u001b[0m \u001b[0mself\u001b[0m\u001b[0;34m.\u001b[0m\u001b[0m_get_loc\u001b[0m\u001b[0;34m(\u001b[0m\u001b[0mkey\u001b[0m\u001b[0;34m,\u001b[0m \u001b[0maxis\u001b[0m\u001b[0;34m=\u001b[0m\u001b[0maxis\u001b[0m\u001b[0;34m)\u001b[0m\u001b[0;34m\u001b[0m\u001b[0m\n",
      "\u001b[0;32m/anaconda3/lib/python3.6/site-packages/pandas/core/indexing.py\u001b[0m in \u001b[0;36m_is_valid_integer\u001b[0;34m(self, key, axis)\u001b[0m\n\u001b[1;32m   1711\u001b[0m         \u001b[0ml\u001b[0m \u001b[0;34m=\u001b[0m \u001b[0mlen\u001b[0m\u001b[0;34m(\u001b[0m\u001b[0max\u001b[0m\u001b[0;34m)\u001b[0m\u001b[0;34m\u001b[0m\u001b[0m\n\u001b[1;32m   1712\u001b[0m         \u001b[0;32mif\u001b[0m \u001b[0mkey\u001b[0m \u001b[0;34m>=\u001b[0m \u001b[0ml\u001b[0m \u001b[0;32mor\u001b[0m \u001b[0mkey\u001b[0m \u001b[0;34m<\u001b[0m \u001b[0;34m-\u001b[0m\u001b[0ml\u001b[0m\u001b[0;34m:\u001b[0m\u001b[0;34m\u001b[0m\u001b[0m\n\u001b[0;32m-> 1713\u001b[0;31m             \u001b[0;32mraise\u001b[0m \u001b[0mIndexError\u001b[0m\u001b[0;34m(\u001b[0m\u001b[0;34m\"single positional indexer is out-of-bounds\"\u001b[0m\u001b[0;34m)\u001b[0m\u001b[0;34m\u001b[0m\u001b[0m\n\u001b[0m\u001b[1;32m   1714\u001b[0m         \u001b[0;32mreturn\u001b[0m \u001b[0;32mTrue\u001b[0m\u001b[0;34m\u001b[0m\u001b[0m\n\u001b[1;32m   1715\u001b[0m \u001b[0;34m\u001b[0m\u001b[0m\n",
      "\u001b[0;31mIndexError\u001b[0m: single positional indexer is out-of-bounds"
     ]
    }
   ],
   "source": [
    "# We will provide the stream link object the same token that's associated with the trace we wish to stream to\n",
    "s = py.Stream(stream_id_crypto)\n",
    "\n",
    "# We then open a connection\n",
    "s.open()\n",
    " \n",
    "i = 0    # a counter\n",
    "k = 5    # some shape parameter\n",
    "\n",
    "# Delay start of stream by 5 sec (time to switch tabs)\n",
    "sleep(5) \n",
    "df_len = df_crypto.shape[0]\n",
    "\n",
    "while True:\n",
    "    # Current values\n",
    "    current = df_crypto.iloc[df_len-500+i]\n",
    "    i += 1\n",
    "        \n",
    "    # Send data to your plot\n",
    "    s.write(dict(type='ohlc',\n",
    "                 x=current.time,\n",
    "                 open=current.open,\n",
    "                 high=current.high,\n",
    "                 low=current.low,\n",
    "                 close=current.close))\n",
    "    \n",
    "    #     Write numbers to stream to append current data on plot,\n",
    "    #     write lists to overwrite existing data on plot\n",
    "            \n",
    "    sleep(.1)  # plot a point every second    \n",
    "\n",
    "# Close the stream when done plotting\n",
    "s.close() "
   ]
  },
  {
   "cell_type": "code",
   "execution_count": null,
   "metadata": {},
   "outputs": [],
   "source": [
    "# Close the stream when done plotting\n",
    "s.close() "
   ]
  },
  {
   "cell_type": "code",
   "execution_count": null,
   "metadata": {
    "collapsed": true
   },
   "outputs": [],
   "source": [
    "import urllib.request\n",
    "import pandas as pd\n",
    "import json\n",
    "from time import sleep\n",
    "\n",
    "## API config\n",
    "CURRENCY         = \"USD\" # Available currency in the API\n",
    "CRYPTO_SYMBOL    = \"BTC\"\n",
    "APP_NAME         = \"HES_SO_master_crypto_analysis\" # API advises us to give an app name in requests\n",
    "BASE_URL         = f\"https://min-api.cryptocompare.com/data/price\" # API base url"
   ]
  },
  {
   "cell_type": "code",
   "execution_count": null,
   "metadata": {
    "collapsed": true
   },
   "outputs": [],
   "source": [
    "def get_data_secondly():\n",
    "    contents = urllib.request.urlopen(\n",
    "        f\"{BASE_URL}?fsym={CRYPTO_SYMBOL}&tsyms={CURRENCY}&extraParams={APP_NAME}\"\n",
    "    ).read()\n",
    "    json_string = contents.decode(\"utf-8\")\n",
    "    print(json_string)\n",
    "    #obj = json.loads(json_string)\n",
    "    #df = pd.DataFrame.from_dict(obj['Data'])\n",
    "    #if not df.empty:\n",
    "    #    return df.drop(['volumefrom', 'volumeto'], axis=1)\n",
    "    #return df"
   ]
  },
  {
   "cell_type": "code",
   "execution_count": 7,
   "metadata": {},
   "outputs": [
    {
     "name": "stdout",
     "output_type": "stream",
     "text": [
      "{\"USD\":7560.47}\n",
      "{\"USD\":7561.25}\n",
      "{\"USD\":7561.25}\n",
      "{\"USD\":7561.25}\n",
      "{\"USD\":7561.25}\n",
      "{\"USD\":7561.25}\n",
      "{\"USD\":7561.25}\n",
      "{\"USD\":7561.25}\n",
      "{\"USD\":7561.25}\n",
      "{\"USD\":7561.25}\n",
      "{\"USD\":7561.27}\n",
      "{\"USD\":7561.27}\n",
      "{\"USD\":7561.27}\n",
      "{\"USD\":7561.27}\n",
      "{\"USD\":7561.27}\n",
      "{\"USD\":7561.27}\n",
      "{\"USD\":7561.27}\n",
      "{\"USD\":7561.27}\n",
      "{\"USD\":7561.47}\n",
      "{\"USD\":7561.47}\n",
      "{\"USD\":7561.47}\n",
      "{\"USD\":7561.47}\n",
      "{\"USD\":7561.47}\n",
      "{\"USD\":7561.47}\n",
      "{\"USD\":7561.47}\n",
      "{\"USD\":7561.47}\n",
      "{\"USD\":7561.47}\n",
      "{\"USD\":7560.11}\n",
      "{\"USD\":7560.11}\n",
      "{\"USD\":7560.11}\n",
      "{\"USD\":7560.11}\n",
      "{\"USD\":7560.11}\n"
     ]
    },
    {
     "ename": "KeyboardInterrupt",
     "evalue": "",
     "output_type": "error",
     "traceback": [
      "\u001b[0;31m---------------------------------------------------------------------------\u001b[0m",
      "\u001b[0;31mKeyboardInterrupt\u001b[0m                         Traceback (most recent call last)",
      "\u001b[0;32m<ipython-input-7-c1fc22d183bb>\u001b[0m in \u001b[0;36m<module>\u001b[0;34m()\u001b[0m\n\u001b[1;32m      2\u001b[0m     \u001b[0mget_data_secondly\u001b[0m\u001b[0;34m(\u001b[0m\u001b[0;34m)\u001b[0m\u001b[0;34m\u001b[0m\u001b[0m\n\u001b[1;32m      3\u001b[0m \u001b[0;34m\u001b[0m\u001b[0m\n\u001b[0;32m----> 4\u001b[0;31m     \u001b[0msleep\u001b[0m\u001b[0;34m(\u001b[0m\u001b[0;36m1\u001b[0m\u001b[0;34m)\u001b[0m  \u001b[0;31m# plot a point every second\u001b[0m\u001b[0;34m\u001b[0m\u001b[0m\n\u001b[0m",
      "\u001b[0;31mKeyboardInterrupt\u001b[0m: "
     ]
    }
   ],
   "source": [
    "while True:\n",
    "    get_data_secondly()\n",
    "            \n",
    "    sleep(1)  # plot a point every second    "
   ]
  }
 ],
 "metadata": {
  "kernelspec": {
   "display_name": "Python 3",
   "language": "python",
   "name": "python3"
  },
  "language_info": {
   "codemirror_mode": {
    "name": "ipython",
    "version": 3
   },
   "file_extension": ".py",
   "mimetype": "text/x-python",
   "name": "python",
   "nbconvert_exporter": "python",
   "pygments_lexer": "ipython3",
   "version": "3.6.4"
  }
 },
 "nbformat": 4,
 "nbformat_minor": 2
}
