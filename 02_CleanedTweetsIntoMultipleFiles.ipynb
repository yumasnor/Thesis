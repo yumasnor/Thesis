{
 "cells": [
  {
   "cell_type": "markdown",
   "metadata": {},
   "source": [
    "# Split the clean.csv file into multiple files. Compute VADER sentiment and score"
   ]
  },
  {
   "cell_type": "code",
   "execution_count": 128,
   "metadata": {},
   "outputs": [],
   "source": [
    "import pandas as pd\n",
    "from vaderSentiment.vaderSentiment import SentimentIntensityAnalyzer\n",
    "from tqdm import tnrange, tqdm_notebook, tqdm\n",
    "\n",
    "# Define the currency\n",
    "#CURRENCY = \"zilliqa\"\n",
    "#CURRENCY_SYMBOL = \"ZIL\"\n",
    "CURRENCY = \"nexo\"\n",
    "CURRENCY_SYMBOL = \"NEXO\"\n",
    "#CURRENCY = \"bitcoin\"\n",
    "#CURRENCY_SYMBOL = \"BTC\"\n",
    "tweets_clean_file = f'data/twitter/{CURRENCY_SYMBOL}/{CURRENCY}_tweets_clean.csv'\n",
    "path = f'data/twitter/{CURRENCY_SYMBOL}' #/{CURRENCY}_tweets_clean.csv'\n"
   ]
  },
  {
   "cell_type": "markdown",
   "metadata": {},
   "source": [
    "## Read the cleaned file"
   ]
  },
  {
   "cell_type": "code",
   "execution_count": 129,
   "metadata": {},
   "outputs": [
    {
     "name": "stdout",
     "output_type": "stream",
     "text": [
      "(2576, 7)\n"
     ]
    },
    {
     "data": {
      "text/html": [
       "<div>\n",
       "<style scoped>\n",
       "    .dataframe tbody tr th:only-of-type {\n",
       "        vertical-align: middle;\n",
       "    }\n",
       "\n",
       "    .dataframe tbody tr th {\n",
       "        vertical-align: top;\n",
       "    }\n",
       "\n",
       "    .dataframe thead th {\n",
       "        text-align: right;\n",
       "    }\n",
       "</style>\n",
       "<table border=\"1\" class=\"dataframe\">\n",
       "  <thead>\n",
       "    <tr style=\"text-align: right;\">\n",
       "      <th></th>\n",
       "      <th>ID</th>\n",
       "      <th>Text</th>\n",
       "      <th>UserName</th>\n",
       "      <th>UserFollowerCount</th>\n",
       "      <th>RetweetCount</th>\n",
       "      <th>Likes</th>\n",
       "      <th>CreatedAt</th>\n",
       "    </tr>\n",
       "  </thead>\n",
       "  <tbody>\n",
       "    <tr>\n",
       "      <th>0</th>\n",
       "      <td>1001426024406634497</td>\n",
       "      <td>RT : Nexo Maersk inbound APM Terminal Valencia...</td>\n",
       "      <td>Heric ♥‿♥ Montalvo</td>\n",
       "      <td>434</td>\n",
       "      <td>1</td>\n",
       "      <td>0</td>\n",
       "      <td>Tue May 29 11:32:24 +0000 2018</td>\n",
       "    </tr>\n",
       "    <tr>\n",
       "      <th>1</th>\n",
       "      <td>1001425728255266816</td>\n",
       "      <td>$NEXO is a good project and a good buy at thes...</td>\n",
       "      <td>Trader Afrique</td>\n",
       "      <td>229</td>\n",
       "      <td>0</td>\n",
       "      <td>2</td>\n",
       "      <td>Tue May 29 11:31:13 +0000 2018</td>\n",
       "    </tr>\n",
       "    <tr>\n",
       "      <th>2</th>\n",
       "      <td>1001425151039160320</td>\n",
       "      <td>eBay: New &amp;amp; Sealed LEGO Nexo Knights King'...</td>\n",
       "      <td>US LEGO Set Sales</td>\n",
       "      <td>150</td>\n",
       "      <td>0</td>\n",
       "      <td>0</td>\n",
       "      <td>Tue May 29 11:28:56 +0000 2018</td>\n",
       "    </tr>\n",
       "    <tr>\n",
       "      <th>3</th>\n",
       "      <td>1001424956675129349</td>\n",
       "      <td>RT : Nexo Community is now the largest crypto ...</td>\n",
       "      <td>Nanda Dwi Harto</td>\n",
       "      <td>3</td>\n",
       "      <td>571</td>\n",
       "      <td>0</td>\n",
       "      <td>Tue May 29 11:28:09 +0000 2018</td>\n",
       "    </tr>\n",
       "    <tr>\n",
       "      <th>4</th>\n",
       "      <td>1001424234139222016</td>\n",
       "      <td>RT : Cryptune retirement bags 🎲💜💎🌊🎲$DBIX - Pal...</td>\n",
       "      <td>Crypto_Huey</td>\n",
       "      <td>84</td>\n",
       "      <td>124</td>\n",
       "      <td>0</td>\n",
       "      <td>Tue May 29 11:25:17 +0000 2018</td>\n",
       "    </tr>\n",
       "  </tbody>\n",
       "</table>\n",
       "</div>"
      ],
      "text/plain": [
       "                    ID                                               Text  \\\n",
       "0  1001426024406634497  RT : Nexo Maersk inbound APM Terminal Valencia...   \n",
       "1  1001425728255266816  $NEXO is a good project and a good buy at thes...   \n",
       "2  1001425151039160320  eBay: New &amp; Sealed LEGO Nexo Knights King'...   \n",
       "3  1001424956675129349  RT : Nexo Community is now the largest crypto ...   \n",
       "4  1001424234139222016  RT : Cryptune retirement bags 🎲💜💎🌊🎲$DBIX - Pal...   \n",
       "\n",
       "             UserName  UserFollowerCount  RetweetCount  Likes  \\\n",
       "0  Heric ♥‿♥ Montalvo                434             1      0   \n",
       "1      Trader Afrique                229             0      2   \n",
       "2   US LEGO Set Sales                150             0      0   \n",
       "3     Nanda Dwi Harto                  3           571      0   \n",
       "4         Crypto_Huey                 84           124      0   \n",
       "\n",
       "                        CreatedAt  \n",
       "0  Tue May 29 11:32:24 +0000 2018  \n",
       "1  Tue May 29 11:31:13 +0000 2018  \n",
       "2  Tue May 29 11:28:56 +0000 2018  \n",
       "3  Tue May 29 11:28:09 +0000 2018  \n",
       "4  Tue May 29 11:25:17 +0000 2018  "
      ]
     },
     "execution_count": 129,
     "metadata": {},
     "output_type": "execute_result"
    }
   ],
   "source": [
    "df_clean = pd.read_csv(tweets_clean_file)\n",
    "print(df_clean.shape)\n",
    "df_clean.head(5)"
   ]
  },
  {
   "cell_type": "code",
   "execution_count": 130,
   "metadata": {},
   "outputs": [],
   "source": [
    "df_clean = df_clean.sort_values(by='ID') # the bigger the ID, the most recent the tweet "
   ]
  },
  {
   "cell_type": "markdown",
   "metadata": {},
   "source": [
    "## Sentiment analysis with Vader\n",
    "\n",
    "VADER (Valence Aware Dictionary and sEntiment Reasoner) is a lexicon and rule-based sentiment analysis tool that is specifically attuned to sentiments expressed in social media.\n",
    "\n",
    "VADER takes into account \n",
    "- negations and contractions (not good, wasn’t good)\n",
    "- Ponctuation (good!!!), CAPS, emotes :), emojis \n",
    "- Intensificators (very, kind of), acronyms ‘lol’\n",
    "- Scores between -1.0 (negative) and 1.0 (positive)\n",
    "\n",
    "We will use this sentiment analysis of the tweets to calculate a score that will represent the importance of each tweet."
   ]
  },
  {
   "cell_type": "code",
   "execution_count": 131,
   "metadata": {},
   "outputs": [
    {
     "name": "stderr",
     "output_type": "stream",
     "text": [
      "100%|██████████| 2576/2576 [00:00<00:00, 3737.68it/s]\n"
     ]
    },
    {
     "data": {
      "text/html": [
       "<div>\n",
       "<style scoped>\n",
       "    .dataframe tbody tr th:only-of-type {\n",
       "        vertical-align: middle;\n",
       "    }\n",
       "\n",
       "    .dataframe tbody tr th {\n",
       "        vertical-align: top;\n",
       "    }\n",
       "\n",
       "    .dataframe thead th {\n",
       "        text-align: right;\n",
       "    }\n",
       "</style>\n",
       "<table border=\"1\" class=\"dataframe\">\n",
       "  <thead>\n",
       "    <tr style=\"text-align: right;\">\n",
       "      <th></th>\n",
       "      <th>ID</th>\n",
       "      <th>Text</th>\n",
       "      <th>UserName</th>\n",
       "      <th>UserFollowerCount</th>\n",
       "      <th>RetweetCount</th>\n",
       "      <th>Likes</th>\n",
       "      <th>CreatedAt</th>\n",
       "      <th>compound</th>\n",
       "    </tr>\n",
       "  </thead>\n",
       "  <tbody>\n",
       "    <tr>\n",
       "      <th>2575</th>\n",
       "      <td>997843451952615424</td>\n",
       "      <td>RT : Nexo Community is now the largest crypto ...</td>\n",
       "      <td>Riasat Ali</td>\n",
       "      <td>165</td>\n",
       "      <td>571</td>\n",
       "      <td>0</td>\n",
       "      <td>Sat May 19 14:16:32 +0000 2018</td>\n",
       "      <td>0.8356</td>\n",
       "    </tr>\n",
       "    <tr>\n",
       "      <th>2574</th>\n",
       "      <td>997847715433385992</td>\n",
       "      <td>RT : best experience in the crypto-space so fa...</td>\n",
       "      <td>CCrypto</td>\n",
       "      <td>34</td>\n",
       "      <td>45</td>\n",
       "      <td>0</td>\n",
       "      <td>Sat May 19 14:33:29 +0000 2018</td>\n",
       "      <td>0.6988</td>\n",
       "    </tr>\n",
       "  </tbody>\n",
       "</table>\n",
       "</div>"
      ],
      "text/plain": [
       "                      ID                                               Text  \\\n",
       "2575  997843451952615424  RT : Nexo Community is now the largest crypto ...   \n",
       "2574  997847715433385992  RT : best experience in the crypto-space so fa...   \n",
       "\n",
       "        UserName  UserFollowerCount  RetweetCount  Likes  \\\n",
       "2575  Riasat Ali                165           571      0   \n",
       "2574     CCrypto                 34            45      0   \n",
       "\n",
       "                           CreatedAt  compound  \n",
       "2575  Sat May 19 14:16:32 +0000 2018    0.8356  \n",
       "2574  Sat May 19 14:33:29 +0000 2018    0.6988  "
      ]
     },
     "execution_count": 131,
     "metadata": {},
     "output_type": "execute_result"
    }
   ],
   "source": [
    "analyzer = SentimentIntensityAnalyzer()\n",
    "compound = []\n",
    "for i,s in enumerate(tqdm(df_clean['Text'])):\n",
    "    vs = analyzer.polarity_scores(s)\n",
    "    compound.append(vs[\"compound\"])\n",
    "df_clean[\"compound\"] = compound\n",
    "df_clean.head(2)"
   ]
  },
  {
   "cell_type": "markdown",
   "metadata": {},
   "source": [
    "## Calculate a score for each tweet\n",
    "\n",
    "To calculate the score for each tweet, we use different variables to which we had a weight based on its importance.\n",
    "\n",
    "The compound column represents the sentiment of the tweets and its value is between -1 and 1.\n",
    "\n",
    "We also use the number of retweets, the number of likes, and the number of users that follow the tweet's author."
   ]
  },
  {
   "cell_type": "code",
   "execution_count": 132,
   "metadata": {},
   "outputs": [
    {
     "name": "stderr",
     "output_type": "stream",
     "text": [
      "100%|██████████| 2576/2576 [00:00<00:00, 13004.51it/s]\n"
     ]
    },
    {
     "data": {
      "text/html": [
       "<div>\n",
       "<style scoped>\n",
       "    .dataframe tbody tr th:only-of-type {\n",
       "        vertical-align: middle;\n",
       "    }\n",
       "\n",
       "    .dataframe tbody tr th {\n",
       "        vertical-align: top;\n",
       "    }\n",
       "\n",
       "    .dataframe thead th {\n",
       "        text-align: right;\n",
       "    }\n",
       "</style>\n",
       "<table border=\"1\" class=\"dataframe\">\n",
       "  <thead>\n",
       "    <tr style=\"text-align: right;\">\n",
       "      <th></th>\n",
       "      <th>ID</th>\n",
       "      <th>Text</th>\n",
       "      <th>UserName</th>\n",
       "      <th>UserFollowerCount</th>\n",
       "      <th>RetweetCount</th>\n",
       "      <th>Likes</th>\n",
       "      <th>CreatedAt</th>\n",
       "      <th>compound</th>\n",
       "      <th>score</th>\n",
       "    </tr>\n",
       "  </thead>\n",
       "  <tbody>\n",
       "    <tr>\n",
       "      <th>2575</th>\n",
       "      <td>997843451952615424</td>\n",
       "      <td>RT : Nexo Community is now the largest crypto ...</td>\n",
       "      <td>Riasat Ali</td>\n",
       "      <td>165</td>\n",
       "      <td>571</td>\n",
       "      <td>0</td>\n",
       "      <td>Sat May 19 14:16:32 +0000 2018</td>\n",
       "      <td>0.8356</td>\n",
       "      <td>138.7096</td>\n",
       "    </tr>\n",
       "    <tr>\n",
       "      <th>2574</th>\n",
       "      <td>997847715433385992</td>\n",
       "      <td>RT : best experience in the crypto-space so fa...</td>\n",
       "      <td>CCrypto</td>\n",
       "      <td>34</td>\n",
       "      <td>45</td>\n",
       "      <td>0</td>\n",
       "      <td>Sat May 19 14:33:29 +0000 2018</td>\n",
       "      <td>0.6988</td>\n",
       "      <td>24.4580</td>\n",
       "    </tr>\n",
       "  </tbody>\n",
       "</table>\n",
       "</div>"
      ],
      "text/plain": [
       "                      ID                                               Text  \\\n",
       "2575  997843451952615424  RT : Nexo Community is now the largest crypto ...   \n",
       "2574  997847715433385992  RT : best experience in the crypto-space so fa...   \n",
       "\n",
       "        UserName  UserFollowerCount  RetweetCount  Likes  \\\n",
       "2575  Riasat Ali                165           571      0   \n",
       "2574     CCrypto                 34            45      0   \n",
       "\n",
       "                           CreatedAt  compound     score  \n",
       "2575  Sat May 19 14:16:32 +0000 2018    0.8356  138.7096  \n",
       "2574  Sat May 19 14:33:29 +0000 2018    0.6988   24.4580  "
      ]
     },
     "execution_count": 132,
     "metadata": {},
     "output_type": "execute_result"
    }
   ],
   "source": [
    "scores = []\n",
    "for i, s in tqdm(df_clean.iterrows(), total=df_clean.shape[0]):\n",
    "    scores.append(s[\"compound\"] * ((s[\"UserFollowerCount\"]+1)) * ((s[\"Likes\"]+1)))\n",
    "df_clean[\"score\"] = scores\n",
    "df_clean.head(2)"
   ]
  },
  {
   "cell_type": "markdown",
   "metadata": {},
   "source": [
    "## Split dataframe and save it into multiple files"
   ]
  },
  {
   "cell_type": "code",
   "execution_count": 133,
   "metadata": {},
   "outputs": [],
   "source": [
    "from datetime import datetime"
   ]
  },
  {
   "cell_type": "code",
   "execution_count": 134,
   "metadata": {},
   "outputs": [
    {
     "name": "stdout",
     "output_type": "stream",
     "text": [
      "2018-05-19 14-16-32 2018-05-29 11-32-24\n"
     ]
    }
   ],
   "source": [
    "n = 20000  #chunk row size\n",
    "chunks_df = [df_clean[i:i+n] for i in range(0,df_clean.shape[0],n)]\n",
    "\n",
    "sep_char = '~'\n",
    "for chunk_df in chunks_df:\n",
    "    chunk_min = chunk_df['ID'].min()\n",
    "    chunk_max = chunk_df['ID'].max()\n",
    "    date_from = (datetime.strptime(chunk_df.iloc[0]['CreatedAt'], '%a %b %d %X %z %Y')).strftime('%Y-%m-%d %H-%M-%S')\n",
    "    date_to = (datetime.strptime(chunk_df.iloc[-1]['CreatedAt'], '%a %b %d %X %z %Y')).strftime('%Y-%m-%d %H-%M-%S')\n",
    "    print(date_from, date_to)\n",
    "\n",
    "    # Write into csv\n",
    "    chunk_df.to_csv(f\"{path}/{date_from}{sep_char}{date_to}.csv\", header=True, index=False)\n",
    "    \n"
   ]
  },
  {
   "cell_type": "markdown",
   "metadata": {},
   "source": [
    "## Update var.csv"
   ]
  },
  {
   "cell_type": "code",
   "execution_count": 135,
   "metadata": {},
   "outputs": [],
   "source": [
    "import glob\n",
    "import numpy as np\n",
    "\n",
    "ENVS = ['CRYPTO', 'LINE_COUNT', 'MOST_RECENT_FILE', 'MOST_RECENT_ID'] # Stored in var.csv\n",
    "\n",
    "def get_var(key, crypto):\n",
    "    df_var = pd.read_csv(\"data/twitter/var.csv\", sep=',',\n",
    "                         dtype={'LINE_COUNT': np.int32})\n",
    "    return df_var[key].loc[df_var['CRYPTO'] == crypto].values[0]\n",
    "\n",
    "def update_var(key, value, crypto):\n",
    "    df_var = pd.read_csv(\"data/twitter/var.csv\", sep=',',\n",
    "                         dtype={'LINE_COUNT': np.int32})\n",
    "    df_var[key].loc[df_var['CRYPTO'] == crypto] = str(value)\n",
    "    df_var.to_csv(\"var.csv\", index=False)\n",
    "    \n",
    "def add_new_crypto(crypto):\n",
    "    df_var = pd.read_csv(\"data/twitter/var.csv\", sep=',',\n",
    "                         dtype={'LINE_COUNT': np.int32})\n",
    "    if df_var[ENVS[0]].loc[df_var['CRYPTO'] == crypto].empty:\n",
    "        new_line = pd.DataFrame([[crypto,-1,\"\",0]], columns=ENVS)\n",
    "        df_var = df_var.append(new_line)\n",
    "        df_var.to_csv(\"data/twitter/var.csv\", index=False)"
   ]
  },
  {
   "cell_type": "code",
   "execution_count": 137,
   "metadata": {},
   "outputs": [
    {
     "name": "stdout",
     "output_type": "stream",
     "text": [
      "data/twitter/NEXO/2018-05-19 14-16-32~2018-05-29 11-32-24.csv\n",
      "2575    1001426024406634497\n",
      "Name: ID, dtype: int64\n",
      "(2576, 9)\n"
     ]
    },
    {
     "name": "stderr",
     "output_type": "stream",
     "text": [
      "/anaconda3/lib/python3.6/site-packages/pandas/core/indexing.py:194: SettingWithCopyWarning: \n",
      "A value is trying to be set on a copy of a slice from a DataFrame\n",
      "\n",
      "See the caveats in the documentation: http://pandas.pydata.org/pandas-docs/stable/indexing.html#indexing-view-versus-copy\n",
      "  self._setitem_with_indexer(indexer, value)\n"
     ]
    }
   ],
   "source": [
    "files = glob.glob(f\"{path}/*~*.csv.csv\")\n",
    "files = sorted(files)\n",
    "last_file = files[-1]\n",
    "print(last_file)\n",
    "last_df = pd.read_csv(last_file)\n",
    "last_elem = last_df.tail(1)\n",
    "print(last_elem['ID'])\n",
    "print(last_df.shape)\n",
    "\n",
    "add_new_crypto(CURRENCY_SYMBOL)\n",
    "update_var(ENVS[1], last_df.shape[0], CURRENCY_SYMBOL)\n",
    "update_var(ENVS[2], last_file, CURRENCY_SYMBOL)\n",
    "update_var(ENVS[3], last_elem, CURRENCY_SYMBOL)"
   ]
  },
  {
   "cell_type": "code",
   "execution_count": 138,
   "metadata": {},
   "outputs": [
    {
     "data": {
      "text/html": [
       "<div>\n",
       "<style scoped>\n",
       "    .dataframe tbody tr th:only-of-type {\n",
       "        vertical-align: middle;\n",
       "    }\n",
       "\n",
       "    .dataframe tbody tr th {\n",
       "        vertical-align: top;\n",
       "    }\n",
       "\n",
       "    .dataframe thead th {\n",
       "        text-align: right;\n",
       "    }\n",
       "</style>\n",
       "<table border=\"1\" class=\"dataframe\">\n",
       "  <thead>\n",
       "    <tr style=\"text-align: right;\">\n",
       "      <th></th>\n",
       "      <th>CRYPTO</th>\n",
       "      <th>LINE_COUNT</th>\n",
       "      <th>MOST_RECENT_FILE</th>\n",
       "      <th>MOST_RECENT_ID</th>\n",
       "    </tr>\n",
       "  </thead>\n",
       "  <tbody>\n",
       "    <tr>\n",
       "      <th>0</th>\n",
       "      <td>BTC</td>\n",
       "      <td>556</td>\n",
       "      <td>data/twitter/BTC/2018-05-29 12-20-53~2018-05-2...</td>\n",
       "      <td>1001439557504692224</td>\n",
       "    </tr>\n",
       "    <tr>\n",
       "      <th>1</th>\n",
       "      <td>NEXO</td>\n",
       "      <td>2576</td>\n",
       "      <td>data/twitter/NEXO/2018-05-19 14-16-32~2018-05-...</td>\n",
       "      <td>1001426024406634497</td>\n",
       "    </tr>\n",
       "    <tr>\n",
       "      <th>2</th>\n",
       "      <td>ZIL</td>\n",
       "      <td>14917</td>\n",
       "      <td>data/twitter/ZIL/2018-05-19 13-38-38~2018-05-2...</td>\n",
       "      <td>1001428255268917250</td>\n",
       "    </tr>\n",
       "  </tbody>\n",
       "</table>\n",
       "</div>"
      ],
      "text/plain": [
       "  CRYPTO  LINE_COUNT                                   MOST_RECENT_FILE  \\\n",
       "0    BTC         556  data/twitter/BTC/2018-05-29 12-20-53~2018-05-2...   \n",
       "1   NEXO        2576  data/twitter/NEXO/2018-05-19 14-16-32~2018-05-...   \n",
       "2    ZIL       14917  data/twitter/ZIL/2018-05-19 13-38-38~2018-05-2...   \n",
       "\n",
       "        MOST_RECENT_ID  \n",
       "0  1001439557504692224  \n",
       "1  1001426024406634497  \n",
       "2  1001428255268917250  "
      ]
     },
     "execution_count": 138,
     "metadata": {},
     "output_type": "execute_result"
    }
   ],
   "source": [
    "var_df = pd.read_csv('data/twitter/var.csv')\n",
    "var_df"
   ]
  },
  {
   "cell_type": "code",
   "execution_count": null,
   "metadata": {},
   "outputs": [],
   "source": []
  }
 ],
 "metadata": {
  "kernelspec": {
   "display_name": "Python 3",
   "language": "python",
   "name": "python3"
  },
  "language_info": {
   "codemirror_mode": {
    "name": "ipython",
    "version": 3
   },
   "file_extension": ".py",
   "mimetype": "text/x-python",
   "name": "python",
   "nbconvert_exporter": "python",
   "pygments_lexer": "ipython3",
   "version": "3.6.4"
  }
 },
 "nbformat": 4,
 "nbformat_minor": 2
}
